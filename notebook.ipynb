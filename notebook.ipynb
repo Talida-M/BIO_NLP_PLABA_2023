{
  "cells": [
    {
      "cell_type": "markdown",
      "source": [
        "# Dataset preparation"
      ],
      "metadata": {
        "id": "i3uRWrr1A04H"
      },
      "id": "i3uRWrr1A04H"
    },
    {
      "cell_type": "markdown",
      "source": [
        "# Mistral\n",
        "## Imports\n"
      ],
      "metadata": {
        "id": "skB7DPLgAkB2"
      },
      "id": "skB7DPLgAkB2"
    },
    {
      "cell_type": "code",
      "source": [],
      "metadata": {
        "id": "tZSRQtjHAijM"
      },
      "id": "tZSRQtjHAijM",
      "execution_count": null,
      "outputs": []
    },
    {
      "cell_type": "markdown",
      "source": [
        "## Finetuning using unsloth\n"
      ],
      "metadata": {
        "id": "PDxSvotIAqcQ"
      },
      "id": "PDxSvotIAqcQ"
    },
    {
      "cell_type": "code",
      "source": [],
      "metadata": {
        "id": "YUSPKyIwAxng"
      },
      "id": "YUSPKyIwAxng",
      "execution_count": null,
      "outputs": []
    },
    {
      "cell_type": "markdown",
      "id": "ab901164",
      "metadata": {
        "id": "ab901164"
      },
      "source": [
        "# Sari functions\n",
        "From https://github.com/cocoxu/simplification/blob/master/SARI.py"
      ]
    },
    {
      "cell_type": "code",
      "execution_count": null,
      "id": "43b46355",
      "metadata": {
        "id": "43b46355"
      },
      "outputs": [],
      "source": [
        "from collections import Counter\n",
        "import sys"
      ]
    },
    {
      "cell_type": "code",
      "execution_count": null,
      "id": "836515dc",
      "metadata": {
        "id": "836515dc"
      },
      "outputs": [],
      "source": [
        "def ReadInFile (filename):\n",
        "\n",
        "    with open(filename) as f:\n",
        "        lines = f.readlines()\n",
        "        lines = [x.strip() for x in lines]\n",
        "    return lines"
      ]
    },
    {
      "cell_type": "code",
      "execution_count": null,
      "id": "c500843a",
      "metadata": {
        "id": "c500843a"
      },
      "outputs": [],
      "source": [
        "def SARIngram(sgrams, cgrams, rgramslist, numref):\n",
        "    rgramsall = [rgram for rgrams in rgramslist for rgram in rgrams]\n",
        "    rgramcounter = Counter(rgramsall)\n",
        "\n",
        "    sgramcounter = Counter(sgrams)\n",
        "    sgramcounter_rep = Counter()\n",
        "    for sgram, scount in sgramcounter.items():\n",
        "        sgramcounter_rep[sgram] = scount * numref\n",
        "\n",
        "    cgramcounter = Counter(cgrams)\n",
        "    cgramcounter_rep = Counter()\n",
        "    for cgram, ccount in cgramcounter.items():\n",
        "        cgramcounter_rep[cgram] = ccount * numref\n",
        "\n",
        "\n",
        "    # KEEP\n",
        "    keepgramcounter_rep = sgramcounter_rep & cgramcounter_rep\n",
        "    keepgramcountergood_rep = keepgramcounter_rep & rgramcounter\n",
        "    keepgramcounterall_rep = sgramcounter_rep & rgramcounter\n",
        "\n",
        "    keeptmpscore1 = 0\n",
        "    keeptmpscore2 = 0\n",
        "    for keepgram in keepgramcountergood_rep:\n",
        "        keeptmpscore1 += keepgramcountergood_rep[keepgram] / keepgramcounter_rep[keepgram]\n",
        "        keeptmpscore2 += keepgramcountergood_rep[keepgram] / keepgramcounterall_rep[keepgram]\n",
        "        #print \"KEEP\", keepgram, keepscore, cgramcounter[keepgram], sgramcounter[keepgram], rgramcounter[keepgram]\n",
        "    keepscore_precision = 0\n",
        "    if len(keepgramcounter_rep) > 0:\n",
        "    \tkeepscore_precision = keeptmpscore1 / len(keepgramcounter_rep)\n",
        "    keepscore_recall = 0\n",
        "    if len(keepgramcounterall_rep) > 0:\n",
        "    \tkeepscore_recall = keeptmpscore2 / len(keepgramcounterall_rep)\n",
        "    keepscore = 0\n",
        "    if keepscore_precision > 0 or keepscore_recall > 0:\n",
        "        keepscore = 2 * keepscore_precision * keepscore_recall / (keepscore_precision + keepscore_recall)\n",
        "\n",
        "\n",
        "    # DELETION\n",
        "    delgramcounter_rep = sgramcounter_rep - cgramcounter_rep\n",
        "    delgramcountergood_rep = delgramcounter_rep - rgramcounter\n",
        "    delgramcounterall_rep = sgramcounter_rep - rgramcounter\n",
        "    deltmpscore1 = 0\n",
        "    deltmpscore2 = 0\n",
        "    for delgram in delgramcountergood_rep:\n",
        "        deltmpscore1 += delgramcountergood_rep[delgram] / delgramcounter_rep[delgram]\n",
        "        deltmpscore2 += delgramcountergood_rep[delgram] / delgramcounterall_rep[delgram]\n",
        "    delscore_precision = 0\n",
        "    if len(delgramcounter_rep) > 0:\n",
        "    \tdelscore_precision = deltmpscore1 / len(delgramcounter_rep)\n",
        "    delscore_recall = 0\n",
        "    if len(delgramcounterall_rep) > 0:\n",
        "    \tdelscore_recall = deltmpscore1 / len(delgramcounterall_rep)\n",
        "    delscore = 0\n",
        "    if delscore_precision > 0 or delscore_recall > 0:\n",
        "        delscore = 2 * delscore_precision * delscore_recall / (delscore_precision + delscore_recall)\n",
        "\n",
        "\n",
        "    # ADDITION\n",
        "    addgramcounter = set(cgramcounter) - set(sgramcounter)\n",
        "    addgramcountergood = set(addgramcounter) & set(rgramcounter)\n",
        "    addgramcounterall = set(rgramcounter) - set(sgramcounter)\n",
        "\n",
        "    addtmpscore = 0\n",
        "    for addgram in addgramcountergood:\n",
        "        addtmpscore += 1\n",
        "\n",
        "    addscore_precision = 0\n",
        "    addscore_recall = 0\n",
        "    if len(addgramcounter) > 0:\n",
        "    \taddscore_precision = addtmpscore / len(addgramcounter)\n",
        "    if len(addgramcounterall) > 0:\n",
        "    \taddscore_recall = addtmpscore / len(addgramcounterall)\n",
        "    addscore = 0\n",
        "    if addscore_precision > 0 or addscore_recall > 0:\n",
        "        addscore = 2 * addscore_precision * addscore_recall / (addscore_precision + addscore_recall)\n",
        "\n",
        "    return (keepscore, delscore_precision, addscore)"
      ]
    },
    {
      "cell_type": "code",
      "execution_count": null,
      "id": "3798b508",
      "metadata": {
        "id": "3798b508"
      },
      "outputs": [],
      "source": [
        "def SARIsent (ssent, csent, rsents) :\n",
        "    numref = len(rsents)\n",
        "\n",
        "    s1grams = ssent.lower().split(\" \")\n",
        "    c1grams = csent.lower().split(\" \")\n",
        "    s2grams = []\n",
        "    c2grams = []\n",
        "    s3grams = []\n",
        "    c3grams = []\n",
        "    s4grams = []\n",
        "    c4grams = []\n",
        "\n",
        "    r1gramslist = []\n",
        "    r2gramslist = []\n",
        "    r3gramslist = []\n",
        "    r4gramslist = []\n",
        "    for rsent in rsents:\n",
        "        r1grams = rsent.lower().split(\" \")\n",
        "        r2grams = []\n",
        "        r3grams = []\n",
        "        r4grams = []\n",
        "        r1gramslist.append(r1grams)\n",
        "        for i in range(0, len(r1grams)-1) :\n",
        "            if i < len(r1grams) - 1:\n",
        "                r2gram = r1grams[i] + \" \" + r1grams[i+1]\n",
        "                r2grams.append(r2gram)\n",
        "            if i < len(r1grams)-2:\n",
        "                r3gram = r1grams[i] + \" \" + r1grams[i+1] + \" \" + r1grams[i+2]\n",
        "                r3grams.append(r3gram)\n",
        "            if i < len(r1grams)-3:\n",
        "                r4gram = r1grams[i] + \" \" + r1grams[i+1] + \" \" + r1grams[i+2] + \" \" + r1grams[i+3]\n",
        "                r4grams.append(r4gram)\n",
        "        r2gramslist.append(r2grams)\n",
        "        r3gramslist.append(r3grams)\n",
        "        r4gramslist.append(r4grams)\n",
        "\n",
        "    for i in range(0, len(s1grams)-1) :\n",
        "        if i < len(s1grams) - 1:\n",
        "            s2gram = s1grams[i] + \" \" + s1grams[i+1]\n",
        "            s2grams.append(s2gram)\n",
        "        if i < len(s1grams)-2:\n",
        "            s3gram = s1grams[i] + \" \" + s1grams[i+1] + \" \" + s1grams[i+2]\n",
        "            s3grams.append(s3gram)\n",
        "        if i < len(s1grams)-3:\n",
        "            s4gram = s1grams[i] + \" \" + s1grams[i+1] + \" \" + s1grams[i+2] + \" \" + s1grams[i+3]\n",
        "            s4grams.append(s4gram)\n",
        "\n",
        "    for i in range(0, len(c1grams)-1) :\n",
        "        if i < len(c1grams) - 1:\n",
        "            c2gram = c1grams[i] + \" \" + c1grams[i+1]\n",
        "            c2grams.append(c2gram)\n",
        "        if i < len(c1grams)-2:\n",
        "            c3gram = c1grams[i] + \" \" + c1grams[i+1] + \" \" + c1grams[i+2]\n",
        "            c3grams.append(c3gram)\n",
        "        if i < len(c1grams)-3:\n",
        "            c4gram = c1grams[i] + \" \" + c1grams[i+1] + \" \" + c1grams[i+2] + \" \" + c1grams[i+3]\n",
        "            c4grams.append(c4gram)\n",
        "\n",
        "\n",
        "    (keep1score, del1score, add1score) = SARIngram(s1grams, c1grams, r1gramslist, numref)\n",
        "    (keep2score, del2score, add2score) = SARIngram(s2grams, c2grams, r2gramslist, numref)\n",
        "    (keep3score, del3score, add3score) = SARIngram(s3grams, c3grams, r3gramslist, numref)\n",
        "    (keep4score, del4score, add4score) = SARIngram(s4grams, c4grams, r4gramslist, numref)\n",
        "    avgkeepscore = sum([keep1score,keep2score,keep3score,keep4score])/4\n",
        "    avgdelscore = sum([del1score,del2score,del3score,del4score])/4\n",
        "    avgaddscore = sum([add1score,add2score,add3score,add4score])/4\n",
        "    finalscore = (avgkeepscore + avgdelscore + avgaddscore ) / 3\n",
        "\n",
        "    return finalscore"
      ]
    },
    {
      "cell_type": "markdown",
      "id": "22223676",
      "metadata": {
        "id": "22223676"
      },
      "source": [
        "# Data loading\n",
        "Ensure `data.json` is in the same directory, or modify the path below."
      ]
    },
    {
      "cell_type": "code",
      "execution_count": null,
      "id": "9ca1f200",
      "metadata": {
        "id": "9ca1f200"
      },
      "outputs": [],
      "source": [
        "import json\n",
        "with open('data.json') as f:\n",
        "    j = json.load(f)\n",
        "\n",
        "valq = [2, 7, 13, 17, 26, 34, 40, 46, 52, 58, 66]\n",
        "tstq = [5, 12, 16, 22, 30, 36, 42, 48, 54, 61, 68]"
      ]
    },
    {
      "cell_type": "markdown",
      "id": "11435053",
      "metadata": {
        "id": "11435053"
      },
      "source": [
        "# System output\n",
        "Edit `process()` to use your system. It takes an array of sentences from a single abstract and returns an array of equal length with the adapted version of each (some potentially blank or with multiple sentences)."
      ]
    },
    {
      "cell_type": "code",
      "execution_count": null,
      "id": "e049e60e",
      "metadata": {
        "id": "e049e60e"
      },
      "outputs": [],
      "source": [
        "def process(source):\n",
        "\n",
        "    # REPLACE THIS CODE\n",
        "    target = []\n",
        "    for sent in source:\n",
        "        target.append(sent) # copy source as placeholder\n",
        "\n",
        "    return target"
      ]
    },
    {
      "cell_type": "markdown",
      "id": "b3429208",
      "metadata": {
        "id": "b3429208"
      },
      "source": [
        "# Compute scores"
      ]
    },
    {
      "cell_type": "code",
      "execution_count": null,
      "id": "89a21f14",
      "metadata": {
        "id": "89a21f14"
      },
      "outputs": [],
      "source": [
        "def scoreQuestions(qs, name):\n",
        "    sarisum = 0\n",
        "    sarin = 0\n",
        "    for q in qs:\n",
        "        for pmid, node in j['%d'%q].items():\n",
        "            if pmid != 'question' and pmid != 'question_type':\n",
        "                source = []\n",
        "                refs = []\n",
        "                for line in node['abstract']:\n",
        "                    source.append(node['abstract'][line])\n",
        "                    linerefs = []\n",
        "                    for _, adpt in node['adaptations'].items():\n",
        "                        linerefs.append(adpt.get(line, ''))\n",
        "                    refs.append(linerefs)\n",
        "                target = process(source)\n",
        "                for i in range(len(source)):\n",
        "                    sari = SARIsent(source[i], target[i], refs[i])\n",
        "                    sarisum += sari\n",
        "                    sarin += 1\n",
        "    print(\"SARI for %s set: %f\"% (name, sarisum/sarin))"
      ]
    },
    {
      "cell_type": "code",
      "execution_count": null,
      "id": "14c4b195",
      "metadata": {
        "id": "14c4b195",
        "outputId": "5952d022-bfb4-4bd5-85e5-ea6dd9e9a5b1"
      },
      "outputs": [
        {
          "name": "stdout",
          "output_type": "stream",
          "text": [
            "SARI for validation set: 0.143607\n",
            "SARI for test set: 0.164033\n"
          ]
        }
      ],
      "source": [
        "scoreQuestions(valq, \"validation\")\n",
        "scoreQuestions(tstq, \"test\")"
      ]
    }
  ],
  "metadata": {
    "kernelspec": {
      "display_name": "Python 3 (ipykernel)",
      "language": "python",
      "name": "python3"
    },
    "language_info": {
      "codemirror_mode": {
        "name": "ipython",
        "version": 3
      },
      "file_extension": ".py",
      "mimetype": "text/x-python",
      "name": "python",
      "nbconvert_exporter": "python",
      "pygments_lexer": "ipython3",
      "version": "3.9.12"
    },
    "colab": {
      "provenance": []
    }
  },
  "nbformat": 4,
  "nbformat_minor": 5
}